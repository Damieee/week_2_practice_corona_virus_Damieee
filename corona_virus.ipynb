{
 "cells": [
  {
   "cell_type": "code",
   "execution_count": 2,
   "metadata": {},
   "outputs": [],
   "source": [
    "import pandas as pd\n",
    "import numpy as np"
   ]
  },
  {
   "cell_type": "code",
   "execution_count": 3,
   "metadata": {},
   "outputs": [
    {
     "data": {
      "text/html": [
       "<div>\n",
       "<style scoped>\n",
       "    .dataframe tbody tr th:only-of-type {\n",
       "        vertical-align: middle;\n",
       "    }\n",
       "\n",
       "    .dataframe tbody tr th {\n",
       "        vertical-align: top;\n",
       "    }\n",
       "\n",
       "    .dataframe thead th {\n",
       "        text-align: right;\n",
       "    }\n",
       "</style>\n",
       "<table border=\"1\" class=\"dataframe\">\n",
       "  <thead>\n",
       "    <tr style=\"text-align: right;\">\n",
       "      <th></th>\n",
       "      <th>Country,Other</th>\n",
       "      <th>Total Cases</th>\n",
       "      <th>New Cases</th>\n",
       "      <th>Total Deaths</th>\n",
       "      <th>New Deaths</th>\n",
       "      <th>Total Recovered</th>\n",
       "      <th>New Recovered</th>\n",
       "      <th>Active Cases</th>\n",
       "      <th>Serious,Critical</th>\n",
       "      <th>Tot Cases/1M pop</th>\n",
       "      <th>Deaths/1M pop</th>\n",
       "      <th>Total Tests</th>\n",
       "      <th>Tests/1M pop</th>\n",
       "      <th>Population</th>\n",
       "    </tr>\n",
       "  </thead>\n",
       "  <tbody>\n",
       "    <tr>\n",
       "      <th>0</th>\n",
       "      <td>USA</td>\n",
       "      <td>10,66,27,427</td>\n",
       "      <td>NaN</td>\n",
       "      <td>11,59,824</td>\n",
       "      <td>NaN</td>\n",
       "      <td>10,45,49,551</td>\n",
       "      <td>NaN</td>\n",
       "      <td>9,18,052</td>\n",
       "      <td>1,368</td>\n",
       "      <td>3,18,476</td>\n",
       "      <td>3,464</td>\n",
       "      <td>1,17,68,34,935</td>\n",
       "      <td>35,14,983</td>\n",
       "      <td>33,48,05,269</td>\n",
       "    </tr>\n",
       "    <tr>\n",
       "      <th>1</th>\n",
       "      <td>India</td>\n",
       "      <td>4,49,39,515</td>\n",
       "      <td>NaN</td>\n",
       "      <td>5,31,508</td>\n",
       "      <td>NaN</td>\n",
       "      <td>4,43,56,693</td>\n",
       "      <td>NaN</td>\n",
       "      <td>51,314</td>\n",
       "      <td>NaN</td>\n",
       "      <td>31,948</td>\n",
       "      <td>378</td>\n",
       "      <td>92,64,96,579</td>\n",
       "      <td>6,58,663</td>\n",
       "      <td>1,40,66,31,776</td>\n",
       "    </tr>\n",
       "    <tr>\n",
       "      <th>2</th>\n",
       "      <td>France</td>\n",
       "      <td>3,99,80,570</td>\n",
       "      <td>NaN</td>\n",
       "      <td>1,66,556</td>\n",
       "      <td>NaN</td>\n",
       "      <td>3,96,77,000</td>\n",
       "      <td>NaN</td>\n",
       "      <td>1,37,014</td>\n",
       "      <td>869</td>\n",
       "      <td>6,09,604</td>\n",
       "      <td>2,540</td>\n",
       "      <td>27,14,90,188</td>\n",
       "      <td>41,39,547</td>\n",
       "      <td>6,55,84,518</td>\n",
       "    </tr>\n",
       "    <tr>\n",
       "      <th>3</th>\n",
       "      <td>Germany</td>\n",
       "      <td>3,84,03,667</td>\n",
       "      <td>NaN</td>\n",
       "      <td>1,73,044</td>\n",
       "      <td>NaN</td>\n",
       "      <td>3,81,92,900</td>\n",
       "      <td>600</td>\n",
       "      <td>37,723</td>\n",
       "      <td>NaN</td>\n",
       "      <td>4,57,821</td>\n",
       "      <td>2,063</td>\n",
       "      <td>12,23,32,384</td>\n",
       "      <td>14,58,359</td>\n",
       "      <td>8,38,83,596</td>\n",
       "    </tr>\n",
       "    <tr>\n",
       "      <th>4</th>\n",
       "      <td>Brazil</td>\n",
       "      <td>3,74,49,418</td>\n",
       "      <td>NaN</td>\n",
       "      <td>7,01,494</td>\n",
       "      <td>NaN</td>\n",
       "      <td>3,62,49,161</td>\n",
       "      <td>NaN</td>\n",
       "      <td>4,98,763</td>\n",
       "      <td>NaN</td>\n",
       "      <td>1,73,897</td>\n",
       "      <td>3,257</td>\n",
       "      <td>6,37,76,166</td>\n",
       "      <td>2,96,146</td>\n",
       "      <td>21,53,53,593</td>\n",
       "    </tr>\n",
       "  </tbody>\n",
       "</table>\n",
       "</div>"
      ],
      "text/plain": [
       "  Country,Other   Total Cases New Cases Total Deaths  New Deaths  \\\n",
       "0           USA  10,66,27,427       NaN    11,59,824         NaN   \n",
       "1         India   4,49,39,515       NaN     5,31,508         NaN   \n",
       "2        France   3,99,80,570       NaN     1,66,556         NaN   \n",
       "3       Germany   3,84,03,667       NaN     1,73,044         NaN   \n",
       "4        Brazil   3,74,49,418       NaN     7,01,494         NaN   \n",
       "\n",
       "  Total Recovered New Recovered Active Cases Serious,Critical  \\\n",
       "0    10,45,49,551           NaN     9,18,052            1,368   \n",
       "1     4,43,56,693           NaN       51,314              NaN   \n",
       "2     3,96,77,000           NaN     1,37,014              869   \n",
       "3     3,81,92,900           600       37,723              NaN   \n",
       "4     3,62,49,161           NaN     4,98,763              NaN   \n",
       "\n",
       "  Tot Cases/1M pop Deaths/1M pop     Total Tests Tests/1M pop      Population  \n",
       "0         3,18,476         3,464  1,17,68,34,935    35,14,983    33,48,05,269  \n",
       "1           31,948           378    92,64,96,579     6,58,663  1,40,66,31,776  \n",
       "2         6,09,604         2,540    27,14,90,188    41,39,547     6,55,84,518  \n",
       "3         4,57,821         2,063    12,23,32,384    14,58,359     8,38,83,596  \n",
       "4         1,73,897         3,257     6,37,76,166     2,96,146    21,53,53,593  "
      ]
     },
     "execution_count": 3,
     "metadata": {},
     "output_type": "execute_result"
    }
   ],
   "source": [
    "df = pd.read_csv('./corona_virus.csv',header=0,encoding=\"latin-1\")\n",
    "\n",
    "df.head()"
   ]
  },
  {
   "cell_type": "code",
   "execution_count": 6,
   "metadata": {},
   "outputs": [],
   "source": [
    "# identify missing values\n",
    "missing_values = df.isnull()\n",
    "\n",
    "# fill missing values with the mean\n",
    "# Fill missing values with the mean\n",
    "df.fillna(df.mean(numeric_only=True), inplace=True)"
   ]
  },
  {
   "cell_type": "code",
   "execution_count": 5,
   "metadata": {},
   "outputs": [],
   "source": [
    "# Remove all duplicates from data\n",
    "\n",
    "df.drop_duplicates(keep=\"first\",inplace=True)"
   ]
  },
  {
   "cell_type": "code",
   "execution_count": 10,
   "metadata": {},
   "outputs": [],
   "source": [
    "# Remove outliers using the z-score method\n",
    "\n",
    "z_scores = (df - df.mean(numeric_only=True)) / df.std()\n",
    "df = df[(z_scores.abs() < 3).all(axis=1)]"
   ]
  },
  {
   "cell_type": "code",
   "execution_count": 11,
   "metadata": {},
   "outputs": [],
   "source": [
    "# Normalize the data using min-max normalization\n",
    "df = (df - df.min()) / (df.max() - df.min())"
   ]
  },
  {
   "cell_type": "code",
   "execution_count": null,
   "metadata": {},
   "outputs": [],
   "source": [
    "# Write the cleaned data to a new CSV file\n",
    "df.to_csv('corona_virus_cleaned_data.csv', index=False)"
   ]
  }
 ],
 "metadata": {
  "kernelspec": {
   "display_name": "Python 3.10.7 64-bit",
   "language": "python",
   "name": "python3"
  },
  "language_info": {
   "codemirror_mode": {
    "name": "ipython",
    "version": 3
   },
   "file_extension": ".py",
   "mimetype": "text/x-python",
   "name": "python",
   "nbconvert_exporter": "python",
   "pygments_lexer": "ipython3",
   "version": "3.10.7"
  },
  "vscode": {
   "interpreter": {
    "hash": "bfa80a28e60fafdbed5a87d46a48acc5cdd76d842ecaed06b9c61d2d4d78d33a"
   }
  }
 },
 "nbformat": 4,
 "nbformat_minor": 2
}
